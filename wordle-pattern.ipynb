
import nltk
nltk.download('words', quiet=True)

from nltk.corpus import words
from IPython.display import display, clear_output
import ipywidgets as widgets
import requests

# --- Official Wordle answer list ---
url = "https://raw.githubusercontent.com/Kinkelin/WordleCompetition/main/data/official/shuffled_real_wordles.txt"
response = requests.get(url)
wordle_answers = set(response.text.splitlines())

# --- Word list (only 5-letter alphabetic words) ---
WORD_LIST = [w.lower() for w in words.words() if len(w) == 5 and w.isalpha()]

GRID_ROWS, GRID_COLS = 6, 5
pattern = [[0 for _ in range(GRID_COLS)] for _ in range(GRID_ROWS)]

# --- Toggle cell color ---
def toggle_cell(r, c, btn):
    pattern[r][c] = 1 - pattern[r][c]
    btn.style.button_color = "white" if pattern[r][c] else "black"

# --- Input and output widgets ---
word_entry = widgets.Text(
    placeholder='Enter correct Wordle word',
    description='Word:',
    layout=widgets.Layout(width='300px')
)

output_box = widgets.Output(layout={'border': '1px solid gray', 'width':'600px', 'height':'300px', 'overflow_y':'auto'})

# --- Matching logic ---
def matches_pattern(guess, correct, shape):
    # Handle fully white row
    if shape == "aaaaa":
        return guess == correct

    # Partial pattern: each square individually
    for g, c, s in zip(guess, correct, shape):
        if s == "a":  # white = yellow/green
            if g not in correct:
                return False
        else:  # black = gray
            if g in correct:
                return False
    return True

def find_matches(_):
    correct = word_entry.value.lower().strip()
    with output_box:
        clear_output()
        if len(correct) != GRID_COLS or not correct.isalpha():
            print("⚠️ Please enter a 5-letter word.")
            return

        found_any = False
        for i, row in enumerate(pattern):
            shape = "".join(["a" if x else "x" for x in row])
            if shape == "xxxxx":
                continue  # skip empty rows

            # Filter words that are both in NLTK and official Wordle answers
            matches = [w for w in WORD_LIST if w in wordle_answers and matches_pattern(w, correct, shape)]

            if matches:
                found_any = True
                print(f"🟩 Pattern {i+1}: {shape}")
                for w in sorted(matches)[:20]:  # show up to 20 matches per row
                    print(" ", w)
                print()

        if not found_any:
            print("No matching patterns found.")

# --- Build clickable grid ---
grid_buttons = []
grid_ui = []
for r in range(GRID_ROWS):
    row_buttons = []
    for c in range(GRID_COLS):
        b = widgets.Button(
            description='',
            layout=widgets.Layout(width='40px', height='40px'),
            style={'button_color': 'black'}
        )
        b.on_click(lambda btn, r=r, c=c, b=b: toggle_cell(r, c, b))
        row_buttons.append(b)
    grid_ui.append(widgets.HBox(row_buttons))
    grid_buttons.append(row_buttons)

# --- Generate button ---
generate_btn = widgets.Button(description="🔍 Generate Words", button_style='info')
generate_btn.on_click(find_matches)

# --- Display everything ---
display(widgets.VBox([
    widgets.HTML("<h3>🟩 Wordle Pattern Generator</h3>"
                 "<p>Click squares to toggle white (yellow/green).<br>"
                 "Enter the correct word below.</p>"),
    *grid_ui,
    word_entry,
    generate_btn,
    output_box
]))
